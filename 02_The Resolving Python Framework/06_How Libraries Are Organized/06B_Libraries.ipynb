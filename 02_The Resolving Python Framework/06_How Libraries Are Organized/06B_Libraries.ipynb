{
 "cells": [
  {
   "attachments": {},
   "cell_type": "markdown",
   "id": "e2d1904e-ff68-45b8-bed0-dc9ac5aec1e8",
   "metadata": {
    "tags": []
   },
   "source": [
    "# How Libraries Are Organized"
   ]
  },
  {
   "attachments": {},
   "cell_type": "markdown",
   "id": "29b0bede-faf3-4f3a-8a40-e4479ce6b689",
   "metadata": {},
   "source": [
    "Most problems, at the beginning, require you tu use **functions from a library**.\n",
    "\n",
    "1. Libraries contain functions for specific topics.\n",
    "2. Therefore, if you know the topic of your problem.\n",
    "3. You'll know in which library you could discover the function you need."
   ]
  },
  {
   "attachments": {},
   "cell_type": "markdown",
   "id": "11a797d6-f6a0-4b99-a937-0c831192fbe5",
   "metadata": {},
   "source": [
    "Let me show you examples from two libraries to understand why they contain functions for specific topics."
   ]
  },
  {
   "attachments": {},
   "cell_type": "markdown",
   "id": "bc1f5983-bda5-46f4-8f77-9ed8f0944536",
   "metadata": {},
   "source": [
    "## Libraries' Examples\n",
    "\n",
    "❌ Don't pay attention to the full code.\n",
    "\n",
    "✅ Just pay attention to the library and the resulting object."
   ]
  },
  {
   "attachments": {},
   "cell_type": "markdown",
   "id": "cfc1dd99-2587-4097-b551-138f53f38d40",
   "metadata": {},
   "source": [
    "### Seaborn (Graphs & Plots)\n",
    "\n",
    "Seaborn is a python library for data visualization that contains functions to plot figures. Therefore, you can see how we get different figures as we execute different functions from the `seaborn` library: \n",
    "\n",
    "> You identify the `functions()` everytime you see the parenthesis and the characters in lower case. For example, `scatterplot()`."
   ]
  },
  {
   "cell_type": "code",
   "execution_count": 1,
   "id": "668c9610-2a33-4191-b864-d9c5c843be88",
   "metadata": {},
   "outputs": [],
   "source": [
    "import seaborn #!"
   ]
  },
  {
   "attachments": {},
   "cell_type": "markdown",
   "id": "821027df-0850-47e9-b307-24eb5e463a4f",
   "metadata": {},
   "source": [
    "#### Scatter plot"
   ]
  },
  {
   "cell_type": "code",
   "execution_count": 2,
   "id": "003d118a-0cbf-46b4-acf2-e4e0806d111b",
   "metadata": {},
   "outputs": [
    {
     "data": {
      "image/png": "[encoded data removed]",
      "text/plain": [
       "<Figure size 432x288 with 1 Axes>"
      ]
     },
     "metadata": {
      "needs_background": "light"
     },
     "output_type": "display_data"
    }
   ],
   "source": [
    "seaborn.scatterplot(x=[1,3,5,7,9], y=[2,-2,2,-2,2]); #!"
   ]
  },
  {
   "attachments": {},
   "cell_type": "markdown",
   "id": "35b25fa3-18ac-49d3-a607-cc44e74c338c",
   "metadata": {},
   "source": [
    "#### Line plot"
   ]
  },
  {
   "cell_type": "code",
   "execution_count": 3,
   "id": "63d28a61-5419-4662-bdca-7e88dbdd55d3",
   "metadata": {},
   "outputs": [
    {
     "data": {
      "image/png": "[encoded data removed]",
      "text/plain": [
       "<Figure size 432x288 with 1 Axes>"
      ]
     },
     "metadata": {
      "needs_background": "light"
     },
     "output_type": "display_data"
    }
   ],
   "source": [
    "seaborn.lineplot(x=[1,3,5,7,9], y=[2,-2,2,-2,2]); #!"
   ]
  },
  {
   "attachments": {},
   "cell_type": "markdown",
   "id": "fd358da7-7489-4b55-9449-769e02d5fb03",
   "metadata": {},
   "source": [
    "#### Bar plot"
   ]
  },
  {
   "cell_type": "code",
   "execution_count": 4,
   "id": "a7beacfd-eb7d-4b62-9dfa-54dde323e542",
   "metadata": {},
   "outputs": [
    {
     "data": {
      "image/png": "[encoded data removed]",
      "text/plain": [
       "<Figure size 432x288 with 1 Axes>"
      ]
     },
     "metadata": {
      "needs_background": "light"
     },
     "output_type": "display_data"
    }
   ],
   "source": [
    "seaborn.barplot(x=[1,3,5,7,9], y=[2,-2,2,-2,2]); #!"
   ]
  },
  {
   "attachments": {},
   "cell_type": "markdown",
   "id": "9c126adc-83d5-4106-9543-a497aefa261c",
   "metadata": {},
   "source": [
    "### Pandas (Data Tables)"
   ]
  },
  {
   "attachments": {},
   "cell_type": "markdown",
   "id": "112d3d64-48c5-494f-b900-a7b0f35e22a6",
   "metadata": {},
   "source": [
    "Pandas is a python library for data tables containing functions to load and analyze. In the following examples, you can see how pandas loads different types of file:"
   ]
  },
  {
   "cell_type": "code",
   "execution_count": 5,
   "id": "3c897a16-303c-46ee-b505-fd2f105965ce",
   "metadata": {},
   "outputs": [],
   "source": [
    "import pandas #!"
   ]
  },
  {
   "attachments": {},
   "cell_type": "markdown",
   "id": "9c62e16b-d702-4c74-aa6d-46cca3606032",
   "metadata": {},
   "source": [
    "#### Excel"
   ]
  },
  {
   "attachments": {},
   "cell_type": "markdown",
   "id": "91dce75c",
   "metadata": {},
   "source": [
    "Football World Cup Excel file."
   ]
  },
  {
   "cell_type": "code",
   "execution_count": 6,
   "id": "c7ccab6d-c832-44bd-b3ce-dfee4ccd665e",
   "metadata": {},
   "outputs": [
    {
     "data": {
      "text/html": [
       "<div>\n",
       "<style scoped>\n",
       "    .dataframe tbody tr th:only-of-type {\n",
       "        vertical-align: middle;\n",
       "    }\n",
       "\n",
       "    .dataframe tbody tr th {\n",
       "        vertical-align: top;\n",
       "    }\n",
       "\n",
       "    .dataframe thead th {\n",
       "        text-align: right;\n",
       "    }\n",
       "</style>\n",
       "<table border=\"1\" class=\"dataframe\">\n",
       "  <thead>\n",
       "    <tr style=\"text-align: right;\">\n",
       "      <th></th>\n",
       "      <th>Games Played</th>\n",
       "      <th>Wins</th>\n",
       "      <th>Draws</th>\n",
       "      <th>Losses</th>\n",
       "      <th>Points Accumulated</th>\n",
       "      <th>Average Points per Game</th>\n",
       "      <th>Goals Scored</th>\n",
       "      <th>Average Goals per Game</th>\n",
       "      <th>Goals Conceded</th>\n",
       "      <th>Average Goals Conceded per Game</th>\n",
       "      <th>Goal Difference</th>\n",
       "      <th>Average Goal Difference</th>\n",
       "      <th>Clean Sheets</th>\n",
       "      <th>Average Clean Sheets</th>\n",
       "      <th>Yellow Cards</th>\n",
       "      <th>Average Yellow Cards</th>\n",
       "      <th>Red Cards</th>\n",
       "      <th>Average Red Cards</th>\n",
       "    </tr>\n",
       "    <tr>\n",
       "      <th>Team</th>\n",
       "      <th></th>\n",
       "      <th></th>\n",
       "      <th></th>\n",
       "      <th></th>\n",
       "      <th></th>\n",
       "      <th></th>\n",
       "      <th></th>\n",
       "      <th></th>\n",
       "      <th></th>\n",
       "      <th></th>\n",
       "      <th></th>\n",
       "      <th></th>\n",
       "      <th></th>\n",
       "      <th></th>\n",
       "      <th></th>\n",
       "      <th></th>\n",
       "      <th></th>\n",
       "      <th></th>\n",
       "    </tr>\n",
       "  </thead>\n",
       "  <tbody>\n",
       "    <tr>\n",
       "      <th>Argentina</th>\n",
       "      <td>4</td>\n",
       "      <td>1</td>\n",
       "      <td>1</td>\n",
       "      <td>2</td>\n",
       "      <td>4</td>\n",
       "      <td>1.00</td>\n",
       "      <td>6</td>\n",
       "      <td>1.50</td>\n",
       "      <td>9</td>\n",
       "      <td>2.25</td>\n",
       "      <td>−3</td>\n",
       "      <td>−0.75</td>\n",
       "      <td>0</td>\n",
       "      <td>0.0</td>\n",
       "      <td>11</td>\n",
       "      <td>2.75</td>\n",
       "      <td>0</td>\n",
       "      <td>0.0</td>\n",
       "    </tr>\n",
       "    <tr>\n",
       "      <th>Australia</th>\n",
       "      <td>3</td>\n",
       "      <td>0</td>\n",
       "      <td>1</td>\n",
       "      <td>2</td>\n",
       "      <td>1</td>\n",
       "      <td>0.33</td>\n",
       "      <td>2</td>\n",
       "      <td>0.67</td>\n",
       "      <td>5</td>\n",
       "      <td>1.67</td>\n",
       "      <td>−3</td>\n",
       "      <td>−1.00</td>\n",
       "      <td>0</td>\n",
       "      <td>0.0</td>\n",
       "      <td>7</td>\n",
       "      <td>2.33</td>\n",
       "      <td>0</td>\n",
       "      <td>0.0</td>\n",
       "    </tr>\n",
       "    <tr>\n",
       "      <th>...</th>\n",
       "      <td>...</td>\n",
       "      <td>...</td>\n",
       "      <td>...</td>\n",
       "      <td>...</td>\n",
       "      <td>...</td>\n",
       "      <td>...</td>\n",
       "      <td>...</td>\n",
       "      <td>...</td>\n",
       "      <td>...</td>\n",
       "      <td>...</td>\n",
       "      <td>...</td>\n",
       "      <td>...</td>\n",
       "      <td>...</td>\n",
       "      <td>...</td>\n",
       "      <td>...</td>\n",
       "      <td>...</td>\n",
       "      <td>...</td>\n",
       "      <td>...</td>\n",
       "    </tr>\n",
       "    <tr>\n",
       "      <th>Tunisia</th>\n",
       "      <td>3</td>\n",
       "      <td>1</td>\n",
       "      <td>0</td>\n",
       "      <td>2</td>\n",
       "      <td>3</td>\n",
       "      <td>1.00</td>\n",
       "      <td>5</td>\n",
       "      <td>1.67</td>\n",
       "      <td>8</td>\n",
       "      <td>2.67</td>\n",
       "      <td>−3</td>\n",
       "      <td>−1.00</td>\n",
       "      <td>0</td>\n",
       "      <td>0.0</td>\n",
       "      <td>4</td>\n",
       "      <td>1.33</td>\n",
       "      <td>0</td>\n",
       "      <td>0.0</td>\n",
       "    </tr>\n",
       "    <tr>\n",
       "      <th>Uruguay</th>\n",
       "      <td>5</td>\n",
       "      <td>4</td>\n",
       "      <td>0</td>\n",
       "      <td>1</td>\n",
       "      <td>12</td>\n",
       "      <td>2.40</td>\n",
       "      <td>7</td>\n",
       "      <td>1.40</td>\n",
       "      <td>3</td>\n",
       "      <td>0.60</td>\n",
       "      <td>+4</td>\n",
       "      <td>0.80</td>\n",
       "      <td>3</td>\n",
       "      <td>0.6</td>\n",
       "      <td>3</td>\n",
       "      <td>0.60</td>\n",
       "      <td>0</td>\n",
       "      <td>0.0</td>\n",
       "    </tr>\n",
       "  </tbody>\n",
       "</table>\n",
       "<p>32 rows × 18 columns</p>\n",
       "</div>"
      ],
      "text/plain": [
       "           Games Played  Wins  Draws  Losses  Points Accumulated  \\\n",
       "Team                                                               \n",
       "Argentina             4     1      1       2                   4   \n",
       "Australia             3     0      1       2                   1   \n",
       "...                 ...   ...    ...     ...                 ...   \n",
       "Tunisia               3     1      0       2                   3   \n",
       "Uruguay               5     4      0       1                  12   \n",
       "\n",
       "           Average Points per Game  Goals Scored  Average Goals per Game  \\\n",
       "Team                                                                       \n",
       "Argentina                     1.00             6                    1.50   \n",
       "Australia                     0.33             2                    0.67   \n",
       "...                            ...           ...                     ...   \n",
       "Tunisia                       1.00             5                    1.67   \n",
       "Uruguay                       2.40             7                    1.40   \n",
       "\n",
       "           Goals Conceded  Average Goals Conceded per Game Goal Difference  \\\n",
       "Team                                                                         \n",
       "Argentina               9                             2.25              −3   \n",
       "Australia               5                             1.67              −3   \n",
       "...                   ...                              ...             ...   \n",
       "Tunisia                 8                             2.67              −3   \n",
       "Uruguay                 3                             0.60              +4   \n",
       "\n",
       "          Average Goal Difference  Clean Sheets  Average Clean Sheets  \\\n",
       "Team                                                                    \n",
       "Argentina                   −0.75             0                   0.0   \n",
       "Australia                   −1.00             0                   0.0   \n",
       "...                           ...           ...                   ...   \n",
       "Tunisia                     −1.00             0                   0.0   \n",
       "Uruguay                      0.80             3                   0.6   \n",
       "\n",
       "           Yellow Cards  Average Yellow Cards  Red Cards  Average Red Cards  \n",
       "Team                                                                         \n",
       "Argentina            11                  2.75          0                0.0  \n",
       "Australia             7                  2.33          0                0.0  \n",
       "...                 ...                   ...        ...                ...  \n",
       "Tunisia               4                  1.33          0                0.0  \n",
       "Uruguay               3                  0.60          0                0.0  \n",
       "\n",
       "[32 rows x 18 columns]"
      ]
     },
     "execution_count": 6,
     "metadata": {},
     "output_type": "execute_result"
    }
   ],
   "source": [
    "pandas.read_excel('russia-world-cup.xlsx', index_col='Team') #!"
   ]
  },
  {
   "attachments": {},
   "cell_type": "markdown",
   "id": "db500bbb-8acd-4c2c-abc4-3e4a015b7394",
   "metadata": {},
   "source": [
    "#### CSV"
   ]
  },
  {
   "attachments": {},
   "cell_type": "markdown",
   "id": "9a3db20c",
   "metadata": {},
   "source": [
    "Tennis Players file."
   ]
  },
  {
   "cell_type": "code",
   "execution_count": 8,
   "id": "d705b878-6e86-4cf1-8f71-e0b816bb5d62",
   "metadata": {},
   "outputs": [
    {
     "data": {
      "text/html": [
       "<div>\n",
       "<style scoped>\n",
       "    .dataframe tbody tr th:only-of-type {\n",
       "        vertical-align: middle;\n",
       "    }\n",
       "\n",
       "    .dataframe tbody tr th {\n",
       "        vertical-align: top;\n",
       "    }\n",
       "\n",
       "    .dataframe thead th {\n",
       "        text-align: right;\n",
       "    }\n",
       "</style>\n",
       "<table border=\"1\" class=\"dataframe\">\n",
       "  <thead>\n",
       "    <tr style=\"text-align: right;\">\n",
       "      <th></th>\n",
       "      <th>income</th>\n",
       "      <th>titles</th>\n",
       "      <th>grand slams</th>\n",
       "      <th>turned professional</th>\n",
       "      <th>wins</th>\n",
       "      <th>losses</th>\n",
       "    </tr>\n",
       "  </thead>\n",
       "  <tbody>\n",
       "    <tr>\n",
       "      <th>roger</th>\n",
       "      <td>130</td>\n",
       "      <td>103</td>\n",
       "      <td>20</td>\n",
       "      <td>1998</td>\n",
       "      <td>1251</td>\n",
       "      <td>275</td>\n",
       "    </tr>\n",
       "    <tr>\n",
       "      <th>rafa</th>\n",
       "      <td>127</td>\n",
       "      <td>90</td>\n",
       "      <td>21</td>\n",
       "      <td>2001</td>\n",
       "      <td>1038</td>\n",
       "      <td>209</td>\n",
       "    </tr>\n",
       "    <tr>\n",
       "      <th>nole</th>\n",
       "      <td>154</td>\n",
       "      <td>86</td>\n",
       "      <td>20</td>\n",
       "      <td>2003</td>\n",
       "      <td>989</td>\n",
       "      <td>199</td>\n",
       "    </tr>\n",
       "  </tbody>\n",
       "</table>\n",
       "</div>"
      ],
      "text/plain": [
       "       income  titles  grand slams  turned professional  wins  losses\n",
       "roger     130     103           20                 1998  1251     275\n",
       "rafa      127      90           21                 2001  1038     209\n",
       "nole      154      86           20                 2003   989     199"
      ]
     },
     "execution_count": 8,
     "metadata": {},
     "output_type": "execute_result"
    }
   ],
   "source": [
    "pandas.read_csv('best_tennis_players_stats.csv', index_col=0) #!"
   ]
  },
  {
   "attachments": {},
   "cell_type": "markdown",
   "id": "5083fe5a-bcc2-4a01-888d-0cb225f0981f",
   "metadata": {},
   "source": [
    "#### HTML"
   ]
  },
  {
   "attachments": {},
   "cell_type": "markdown",
   "id": "a8c8b911-87d7-42da-a638-99a1e5bccab6",
   "metadata": {},
   "source": [
    "The following case it's pretty cool because we get the data tables from websites, such as [the world population](https://en.wikipedia.org/wiki/List_of_countries_and_dependencies_by_population), directly with the function `read_html()`:"
   ]
  },
  {
   "cell_type": "code",
   "execution_count": 9,
   "id": "f8b69ffd-9d30-4c95-a00a-23a8cb5aaf55",
   "metadata": {},
   "outputs": [
    {
     "data": {
      "text/html": [
       "<div>\n",
       "<style scoped>\n",
       "    .dataframe tbody tr th:only-of-type {\n",
       "        vertical-align: middle;\n",
       "    }\n",
       "\n",
       "    .dataframe tbody tr th {\n",
       "        vertical-align: top;\n",
       "    }\n",
       "\n",
       "    .dataframe thead tr th {\n",
       "        text-align: left;\n",
       "    }\n",
       "</style>\n",
       "<table border=\"1\" class=\"dataframe\">\n",
       "  <thead>\n",
       "    <tr>\n",
       "      <th></th>\n",
       "      <th>Rank</th>\n",
       "      <th>Country / Dependency</th>\n",
       "      <th colspan=\"2\" halign=\"left\">Population</th>\n",
       "      <th>Date</th>\n",
       "      <th>Source (official or from the United Nations)</th>\n",
       "      <th>Notes</th>\n",
       "    </tr>\n",
       "    <tr>\n",
       "      <th></th>\n",
       "      <th>Rank</th>\n",
       "      <th>Country / Dependency</th>\n",
       "      <th>Numbers</th>\n",
       "      <th>% of the world</th>\n",
       "      <th>Date</th>\n",
       "      <th>Source (official or from the United Nations)</th>\n",
       "      <th>Notes</th>\n",
       "    </tr>\n",
       "  </thead>\n",
       "  <tbody>\n",
       "    <tr>\n",
       "      <th>0</th>\n",
       "      <td>–</td>\n",
       "      <td>World</td>\n",
       "      <td>8012031000</td>\n",
       "      <td>100%</td>\n",
       "      <td>12 Feb 2023</td>\n",
       "      <td>UN projection[3]</td>\n",
       "      <td>NaN</td>\n",
       "    </tr>\n",
       "    <tr>\n",
       "      <th>1</th>\n",
       "      <td>1</td>\n",
       "      <td>China</td>\n",
       "      <td>1411750000</td>\n",
       "      <td>NaN</td>\n",
       "      <td>31 Dec 2022</td>\n",
       "      <td>Official estimate[4]</td>\n",
       "      <td>The population figure refers to mainland China...</td>\n",
       "    </tr>\n",
       "    <tr>\n",
       "      <th>...</th>\n",
       "      <td>...</td>\n",
       "      <td>...</td>\n",
       "      <td>...</td>\n",
       "      <td>...</td>\n",
       "      <td>...</td>\n",
       "      <td>...</td>\n",
       "      <td>...</td>\n",
       "    </tr>\n",
       "    <tr>\n",
       "      <th>240</th>\n",
       "      <td>–</td>\n",
       "      <td>Cocos (Keeling) Islands (Australia)</td>\n",
       "      <td>593</td>\n",
       "      <td>NaN</td>\n",
       "      <td>30 Jun 2020</td>\n",
       "      <td>2021 Census[209]</td>\n",
       "      <td>NaN</td>\n",
       "    </tr>\n",
       "    <tr>\n",
       "      <th>241</th>\n",
       "      <td>–</td>\n",
       "      <td>Pitcairn Islands (United Kingdom)</td>\n",
       "      <td>47</td>\n",
       "      <td>NaN</td>\n",
       "      <td>1 Jul 2021</td>\n",
       "      <td>Official estimate[210]</td>\n",
       "      <td>NaN</td>\n",
       "    </tr>\n",
       "  </tbody>\n",
       "</table>\n",
       "<p>242 rows × 7 columns</p>\n",
       "</div>"
      ],
      "text/plain": [
       "    Rank                 Country / Dependency  Population                 \\\n",
       "    Rank                 Country / Dependency     Numbers % of the world   \n",
       "0      –                                World  8012031000           100%   \n",
       "1      1                                China  1411750000            NaN   \n",
       "..   ...                                  ...         ...            ...   \n",
       "240    –  Cocos (Keeling) Islands (Australia)         593            NaN   \n",
       "241    –    Pitcairn Islands (United Kingdom)          47            NaN   \n",
       "\n",
       "            Date Source (official or from the United Nations)  \\\n",
       "            Date Source (official or from the United Nations)   \n",
       "0    12 Feb 2023                             UN projection[3]   \n",
       "1    31 Dec 2022                         Official estimate[4]   \n",
       "..           ...                                          ...   \n",
       "240  30 Jun 2020                             2021 Census[209]   \n",
       "241   1 Jul 2021                       Official estimate[210]   \n",
       "\n",
       "                                                 Notes  \n",
       "                                                 Notes  \n",
       "0                                                  NaN  \n",
       "1    The population figure refers to mainland China...  \n",
       "..                                                 ...  \n",
       "240                                                NaN  \n",
       "241                                                NaN  \n",
       "\n",
       "[242 rows x 7 columns]"
      ]
     },
     "execution_count": 9,
     "metadata": {},
     "output_type": "execute_result"
    }
   ],
   "source": [
    "pandas.read_html('https://en.wikipedia.org/wiki/List_of_countries_and_dependencies_by_population')[1] #!"
   ]
  },
  {
   "attachments": {},
   "cell_type": "markdown",
   "id": "85c9ccbd-33dd-482c-b5a9-73f2d6ef9a66",
   "metadata": {},
   "source": [
    "## Restaurants Analogy (🇯🇵 🇮🇹 🇪🇸)\n",
    "\n",
    "Let's make the idea simpler, imagine:\n",
    "\n",
    "1. Shopping mall (Computer)\n",
    "2. Restaurant section (Python)\n",
    "3. Restaurants: japanese, italian, spanish,... (Python Libraries)\n",
    "4. Chefs (Functions) will cook the meal (the output)\n",
    "5. Ingredients (Parameters) the chef needs to cook your meal"
   ]
  },
  {
   "attachments": {},
   "cell_type": "markdown",
   "id": "6dd5bb9b-c774-48d7-8ce8-2ae1ab56f933",
   "metadata": {},
   "source": [
    "## Conclusion\n",
    "\n",
    "So, we can deduce that:\n",
    "\n",
    "1. If your topic is related to **chart & plots**, you'll try to find the function in `seaborn`.\n",
    "2. If your topic is related to **data tables**, you'll try to find the function in `pandas` library.\n",
    "3. And many [other topics and libraries](https://www.craft.do/s/G80r1dqrQKrjTb/b/E566C8E4-176F-4160-B530-AEF34FBAFFC4/Library).\n",
    "\n",
    "Now it's time to apply these ideas to practical exercises!"
   ]
  },
  {
   "attachments": {},
   "cell_type": "markdown",
   "id": "bd63742e-da87-4047-b97a-8e7847b6b533",
   "metadata": {},
   "source": [
    "# What's Next?\n",
    "\n",
    "- Practice with exercises on the next section."
   ]
  }
 ],
 "metadata": {
  "authors": [
   {
    "blog": "https//blog.resolvingpython.com",
    "name": "Jesús López",
    "twitter": "https://twitter.com/jsulopzs"
   }
  ],
  "kernelspec": {
   "display_name": "Python 3 (ipykernel)",
   "language": "python",
   "name": "python3"
  },
  "language_info": {
   "codemirror_mode": {
    "name": "ipython",
    "version": 3
   },
   "file_extension": ".py",
   "mimetype": "text/x-python",
   "name": "python",
   "nbconvert_exporter": "python",
   "pygments_lexer": "ipython3",
   "version": "3.10.8"
  },
  "title": "Machine Learning & Linear Regression",
  "toc-autonumbering": true,
  "vscode": {
   "interpreter": {
    "hash": "b0fa6594d8f4cbf19f97940f81e996739fb7646882a419484c72d19e05852a7e"
   }
  }
 },
 "nbformat": 4,
 "nbformat_minor": 5
}
