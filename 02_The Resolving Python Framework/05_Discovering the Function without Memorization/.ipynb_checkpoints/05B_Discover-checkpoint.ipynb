{
 "cells": [
  {
   "attachments": {},
   "cell_type": "markdown",
   "id": "e28a92a6-69c3-4da3-84d8-078b370825b2",
   "metadata": {
    "tags": []
   },
   "source": [
    "# Discovering the Function without Memorization\n",
    "\n",
    "Do you need to memorise all the functions?\n",
    "\n",
    "- No, you don't.\n",
    "\n",
    "Instead, you should apply the **framework [Resolving Python](https://www.craft.do/s/G80r1dqrQKrjTb), a *mental model* to find the function (the chef 👨‍🍳) you need**.\n",
    "\n",
    "Let's practice with the following exercises:"
   ]
  },
  {
   "attachments": {},
   "cell_type": "markdown",
   "id": "7df60160-9676-4f73-b536-59959d4c85e4",
   "metadata": {},
   "source": [
    "## Load a `CSV` in Python"
   ]
  },
  {
   "attachments": {},
   "cell_type": "markdown",
   "id": "33cf419d-6025-4549-a6d3-203d13cbe2e7",
   "metadata": {},
   "source": [
    "We have [this data file](best_tennis_players_stats.csv) about Tennis Players.\n",
    "\n",
    "How can we reference the file in Python?"
   ]
  },
  {
   "cell_type": "code",
   "execution_count": null,
   "id": "234d08cd-360c-4083-b591-4f00001e9594",
   "metadata": {},
   "outputs": [],
   "source": [
    "'best_tennis_players_stats.csv'"
   ]
  },
  {
   "attachments": {},
   "cell_type": "markdown",
   "id": "93ff79a7",
   "metadata": {},
   "source": [
    "With the following `'string'`, which contains the name of the file."
   ]
  },
  {
   "attachments": {},
   "cell_type": "markdown",
   "id": "512624c9-060d-4522-b81c-9abb68777a66",
   "metadata": {},
   "source": [
    "Look for a function within the `string` (as we specify in the step [4.1.1 Object](https://www.craft.do/s/G80r1dqrQKrjTb/b/1108823A-5839-4A8E-80CC-ECC0D73020DC/Object)) by pressing the `↹` [TAB] after the dot `.` below:\n",
    "\n",
    "> Click [here](https://www.google.com/search?q=tab+key&oq=tab+key) if you don't find the [TAB] in the keyboard."
   ]
  },
  {
   "cell_type": "code",
   "execution_count": null,
   "id": "573ef39b-febb-4ec2-9c90-ecb723dd6f02",
   "metadata": {},
   "outputs": [],
   "source": [
    "'best_tennis_players_stats.csv'."
   ]
  },
  {
   "attachments": {},
   "cell_type": "markdown",
   "id": "6c3e76fe-30cb-4043-8faa-e7172f6d487e",
   "metadata": {},
   "source": [
    "![](src/suggestion-string.png)"
   ]
  },
  {
   "attachments": {},
   "cell_type": "markdown",
   "id": "ed9b47ef-7b5e-4521-90a2-71d7dac856e4",
   "metadata": {},
   "source": [
    "You can only find functions that manipulate the `string` (a sequence of characters). For example, you can make all the letters upper case:"
   ]
  },
  {
   "cell_type": "code",
   "execution_count": null,
   "id": "d7f3d49b-12ce-4072-b53f-f9ebf7e0db7b",
   "metadata": {},
   "outputs": [],
   "source": [
    "'best_tennis_players_stats.csv'.upper()"
   ]
  },
  {
   "attachments": {},
   "cell_type": "markdown",
   "id": "32b7074d-ffdc-4384-82fc-b8ae69f557c1",
   "metadata": {},
   "source": [
    "You can also make the first letter of each word upper case:"
   ]
  },
  {
   "cell_type": "code",
   "execution_count": null,
   "id": "c0615844-c7f2-4915-8857-180e16f220f5",
   "metadata": {},
   "outputs": [],
   "source": [
    "'best_tennis_players_stats.csv'.title()"
   ]
  },
  {
   "attachments": {},
   "cell_type": "markdown",
   "id": "caa97267-8bae-494b-b0c9-d4eac7621883",
   "metadata": {},
   "source": [
    "But, could you find a function within this object that loads a csv file in Python?\n",
    "\n",
    "- No.\n",
    "\n",
    "Then, what do you do?\n",
    "\n",
    "Apply the step [4.1.2 Library](https://www.craft.do/s/G80r1dqrQKrjTb/b/E566C8E4-176F-4160-B530-AEF34FBAFFC4/Library) of the Resolving Python Framework and discover the function that may load your `CSV` file.\n",
    "\n",
    "Which is the key topic of the `CSV` file?\n",
    "\n",
    "- [X] Data Tables? → `pandas`\n",
    "- [ ] Charts & Plots? → `matploblib` `seaborn` `plotly`\n",
    "- [ ] Machine Learning? → `sklearn`\n",
    "- [ ] URLs? → `requests`\n",
    "\n",
    "Then, how do we discover the function that loads the `CSV` file within the library?\n",
    "\n",
    "1. Import the `pandas` library and execute\n",
    "2. Press the `↹` (TAB Key) after `pandas.`"
   ]
  },
  {
   "cell_type": "code",
   "execution_count": null,
   "id": "615f57d8-ea5d-46ef-98d5-1606da801d88",
   "metadata": {},
   "outputs": [],
   "source": [
    "import pandas"
   ]
  },
  {
   "cell_type": "code",
   "execution_count": null,
   "id": "dc23f58d-8de4-465d-aef6-4d8c0ee66e1d",
   "metadata": {},
   "outputs": [],
   "source": [
    "pandas."
   ]
  },
  {
   "attachments": {},
   "cell_type": "markdown",
   "id": "54767562-b3fa-4928-8964-80caad9c8a0b",
   "metadata": {},
   "source": [
    "![](src/suggestion-pandas.png)"
   ]
  },
  {
   "attachments": {},
   "cell_type": "markdown",
   "id": "02f1e0ca-ca31-46a9-9297-bd8e5df90d98",
   "metadata": {},
   "source": [
    "The previous list of suggestions show all the possible elements the `pandas` library contains.\n",
    "\n",
    "Apply the following internal dialogue with yourself to discover the function:\n",
    "\n",
    "How did the creator of the `pandas` library named the function that imports a `CSV` file? Which keywords should it contain since we want to load a `CSV` file?\n",
    "\n",
    "- csv\n",
    "\n",
    "Therefore, if you type `csv` as below we are looking a function that contains `csv` and there you have it:"
   ]
  },
  {
   "attachments": {},
   "cell_type": "markdown",
   "id": "31e33522-07d9-4eeb-813f-28007e23fd38",
   "metadata": {},
   "source": [
    "![](src/suggestion-csv.png)"
   ]
  },
  {
   "attachments": {},
   "cell_type": "markdown",
   "id": "50f5eac9-3c9c-4099-a898-62f87a38999f",
   "metadata": {},
   "source": [
    "Give it a try:"
   ]
  },
  {
   "cell_type": "code",
   "execution_count": null,
   "id": "f5ac416f-6acc-4b05-b8b5-5896386f6c17",
   "metadata": {},
   "outputs": [],
   "source": [
    "pandas."
   ]
  },
  {
   "attachments": {},
   "cell_type": "markdown",
   "id": "7debe4f7-92a4-4b41-88b3-c807e5dcdd3f",
   "metadata": {},
   "source": [
    "<div class=\"alert alert-info\">\n",
    "    <b>Tip ☝️</b><br>\n",
    "    It would help if you apply this internal dialogue every time you want to work with programming elements because your brain will easily remember what you have tried to deduce. Instead of memorising.\n",
    "</div>"
   ]
  },
  {
   "attachments": {},
   "cell_type": "markdown",
   "id": "18aedee6-6ac1-4cf9-bec0-13165577fc7b",
   "metadata": {},
   "source": [
    "Reflect about what just happened:\n",
    "\n",
    "1. You **didn't need to memorize the specific name** of the function.\n",
    "2. Instead, you **strategically discovered the function's name** by typing the word that makes more sense.\n",
    "\n",
    "In the long run, if you apply this coding discipline to any problem:\n",
    "\n",
    "1. You will remember programming names more efficiently.\n",
    "2. You will focus on the creative part of the problem:\n",
    "    1. Designing programming solutions to problems requires a huge amount of creativity.\n",
    "    2. Suppose you always depend on Google to copy-paste the solutions.\n",
    "    3. In that case, you'll get stuck often, leading to exhaustion, demotivation, and throwing the problem into the trash.\n",
    "    4. As you learn and practice programming in the way we described above, your brain will apply a high cognitive learning process driven by discovery.\n",
    "    5. Therefore, you'll remember the functions and libraries you are using with minimal effort for the following times, saving more energy to focus on the creative part of the problem.\n",
    "\n",
    "And the more you practice this cognitive process repeatedly, the easier it will be for you to learn programming.\n",
    "\n",
    "Ok, enough of talking. Let's load the `CSV` file:"
   ]
  },
  {
   "cell_type": "code",
   "execution_count": null,
   "id": "ae4f2930-648a-4ba9-8938-231abf2e0e11",
   "metadata": {},
   "outputs": [],
   "source": [
    "pandas.read_csv('best_tennis_players_stats.csv')"
   ]
  },
  {
   "attachments": {},
   "cell_type": "markdown",
   "id": "9007f028-f86b-42d3-ae84-a2b174936aeb",
   "metadata": {},
   "source": [
    "And there we have it!\n",
    "\n",
    "Now, let's go with another exercise."
   ]
  },
  {
   "attachments": {},
   "cell_type": "markdown",
   "id": "28e8ed29-35a2-4bac-bf2c-9129d5c6a74d",
   "metadata": {},
   "source": [
    "## Load an `Excel` in Python\n",
    "\n",
    "Apply the same thinking process as before to load the TSLA Stock Data (you have the file in the folder)."
   ]
  },
  {
   "attachments": {},
   "cell_type": "markdown",
   "id": "3a25b529-e93f-4409-b9b5-b5db7660689d",
   "metadata": {},
   "source": [
    "![](src/excel_file.png)"
   ]
  },
  {
   "cell_type": "code",
   "execution_count": null,
   "id": "8181e7a2-6643-4483-9200-7ca6625621cf",
   "metadata": {},
   "outputs": [],
   "source": [
    "'tsla_stock.xlsx' #!"
   ]
  },
  {
   "attachments": {},
   "cell_type": "markdown",
   "id": "6b106828-1655-4ee4-8e5e-979bfaf0f4ac",
   "metadata": {},
   "source": [
    "We should know from the previous example that we need to use the `pandas` library because:\n",
    "\n",
    "1. We want to load an `Excel` file, a format for Data Tables.\n",
    "2. And `pandas` is the library where these types of functions are."
   ]
  },
  {
   "attachments": {},
   "cell_type": "markdown",
   "id": "e9d9e534-2659-41bc-a7f6-01f4e114f929",
   "metadata": {},
   "source": [
    "![](src/suggestion-excel.png)"
   ]
  },
  {
   "attachments": {},
   "cell_type": "markdown",
   "id": "e7536f23-0099-470b-af16-82420fd8cc4f",
   "metadata": {},
   "source": [
    "Give it a try:"
   ]
  },
  {
   "cell_type": "code",
   "execution_count": null,
   "id": "d5563d3e-97b6-4682-8054-f945a0846b03",
   "metadata": {},
   "outputs": [],
   "source": [
    "pandas."
   ]
  },
  {
   "attachments": {},
   "cell_type": "markdown",
   "id": "b07b0b3f-ba10-4669-b02f-28457264f331",
   "metadata": {},
   "source": [
    "Once we found it, we pass the file path and execute:"
   ]
  },
  {
   "cell_type": "code",
   "execution_count": null,
   "id": "afc8ce76-b5e1-43b5-ac27-0c5643c1db43",
   "metadata": {},
   "outputs": [],
   "source": [
    "pandas.read_excel('tsla_stock.xlsx')"
   ]
  },
  {
   "attachments": {},
   "cell_type": "markdown",
   "id": "0c109b5f-7626-4c2b-9085-561da5539223",
   "metadata": {},
   "source": [
    "We have successfuly loaded the Excel file. Nevertheless, is the table representing the TSLA stock data?\n",
    "\n",
    "- No.\n",
    "\n",
    "Why?\n",
    "\n",
    "We prepared a little trap.\n",
    "\n",
    "The Excel file contains 2 tables (aka sheets) and it is loading the first one:"
   ]
  },
  {
   "attachments": {},
   "cell_type": "markdown",
   "id": "534a2382-3a3e-4f12-80fb-0c111485aa61",
   "metadata": {},
   "source": [
    "![](src/excel-two-tables.png)"
   ]
  },
  {
   "attachments": {},
   "cell_type": "markdown",
   "id": "7c537c4f-9880-4ae4-b231-14f426a6a94a",
   "metadata": {},
   "source": [
    "What should we think next to solve this problem?"
   ]
  },
  {
   "attachments": {},
   "cell_type": "markdown",
   "id": "6aa8bfae-4856-45ea-b334-427141c16ca6",
   "metadata": {},
   "source": [
    "### Configure the Parameters\n",
    "\n",
    "#### Thinking Process\n",
    "\n",
    "1. You may have find the function you needed: `pandas.read_excel()`\n",
    "2. But it's not giving the result you expected.\n",
    "3. What should we do then?\n",
    "4. Look for a **parameter to change the function's behaviour**."
   ]
  },
  {
   "attachments": {},
   "cell_type": "markdown",
   "id": "d18d6fd9-8c95-4491-99b7-86eccd14550f",
   "metadata": {},
   "source": [
    "If you press `⇧ [SHIFT]` + `↹ [TAB]` inside the parenthesis of the function, you'll see the documentation of the function:"
   ]
  },
  {
   "cell_type": "code",
   "execution_count": null,
   "id": "6d026e35-b46c-4386-a1d7-625ec270eded",
   "metadata": {},
   "outputs": [],
   "source": [
    "pandas.read_excel()"
   ]
  },
  {
   "attachments": {},
   "cell_type": "markdown",
   "id": "0bce12f9-3b63-41ed-b7be-67142cb59c4e",
   "metadata": {},
   "source": [
    "![](src/doc-excel.png)"
   ]
  },
  {
   "attachments": {},
   "cell_type": "markdown",
   "id": "c1d66b61-f167-45f6-9dce-03aaa5122c06",
   "metadata": {},
   "source": [
    "You need to understand many concepts from the documentation:\n",
    "\n",
    "Every word you see at the beginning of each line is called `parameter`, which you configure to tell the function the ingredients (the input) you want to cook a meal (an output).\n",
    "\n",
    "For example, we give the Excel file path `'tsla_stock.xlsx'` to the `io` parameter to cook the table we see below:"
   ]
  },
  {
   "cell_type": "code",
   "execution_count": null,
   "id": "929738ba-0316-48bd-9789-95614e22b070",
   "metadata": {},
   "outputs": [],
   "source": [
    "pandas.read_excel('tsla_stock.xlsx')"
   ]
  },
  {
   "attachments": {},
   "cell_type": "markdown",
   "id": "37a6ec1b-e2f8-40a7-88ae-7c0bc1f58c29",
   "metadata": {},
   "source": [
    "By default, the function reads the first table of the Excel, `sheet_name=0`:"
   ]
  },
  {
   "cell_type": "code",
   "execution_count": null,
   "id": "80376904-855f-42a9-86ec-be901c30bd48",
   "metadata": {},
   "outputs": [],
   "source": [
    "pandas.read_excel('tsla_stock.xlsx', sheet_name=0)"
   ]
  },
  {
   "attachments": {},
   "cell_type": "markdown",
   "id": "e1c18f49-c757-4a8d-ae46-dad2576c893d",
   "metadata": {},
   "source": [
    "If we want to load the TSLA Stock Data, which it's the second table, we need to change the `sheet_name=1` ingredient:"
   ]
  },
  {
   "cell_type": "code",
   "execution_count": null,
   "id": "9813f1d4-fcd4-47a0-8cc5-4643c402f946",
   "metadata": {},
   "outputs": [],
   "source": [
    "pandas.read_excel('tsla_stock.xlsx', sheet_name=1)"
   ]
  },
  {
   "attachments": {},
   "cell_type": "markdown",
   "id": "67283e61-99a3-4339-b69b-7d0c59d123e8",
   "metadata": {},
   "source": [
    "There we had the TSLA stock data table!"
   ]
  },
  {
   "attachments": {},
   "cell_type": "markdown",
   "id": "71ee5e7b-e26d-4a4e-82bf-86e8f58f2894",
   "metadata": {},
   "source": [
    "### Conclusion"
   ]
  },
  {
   "attachments": {},
   "cell_type": "markdown",
   "id": "94b504ea-1e66-41d5-9102-917da5dc02fc",
   "metadata": {},
   "source": [
    "Sometimes, it is not enough to just discover the function; you may need to look at the function's **documentation to discover the missing ingredient (parameter)** to cook the desired output."
   ]
  },
  {
   "attachments": {},
   "cell_type": "markdown",
   "id": "bb087782-4d34-4f60-9b5a-4434028869a1",
   "metadata": {},
   "source": [
    "<div class=\"alert alert-info\">\n",
    "<b>Tip</b>\n",
    "<br><br>\n",
    "    ✅ The first time you use a new function, you must look up the instructions.\n",
    "    <br>❌ Otherwise, you'll get lost because the function may not be configured, by default, as you want.\n",
    "</div>"
   ]
  },
  {
   "attachments": {},
   "cell_type": "markdown",
   "id": "b7f13261-8bd6-4c55-9862-ac21b9400b67",
   "metadata": {},
   "source": [
    "### The Ikea Analogy\n",
    "\n",
    "You look up the instructions to mount Ikea furniture, right?\n",
    "\n",
    "Then, why don't you look up the instructions of the functions in Python at the beginning?"
   ]
  },
  {
   "attachments": {},
   "cell_type": "markdown",
   "id": "a907a2b7-b792-47b7-8f04-39cc91cd939a",
   "metadata": {},
   "source": [
    "## What's next?\n",
    "\n",
    "1. The Function Importance\n",
    "2. How to Discover Functions\n",
    "3. [Functions in Libraries for Specific Topics](<03B_Functions in Libraries for Specific Topics.ipynb>)"
   ]
  }
 ],
 "metadata": {
  "authors": [
   {
    "blog": "https//blog.resolvingpython.com",
    "name": "Jesús López",
    "twitter": "https://twitter.com/jsulopzs"
   }
  ],
  "kernelspec": {
   "display_name": "Python 3 (ipykernel)",
   "language": "python",
   "name": "python3"
  },
  "language_info": {
   "codemirror_mode": {
    "name": "ipython",
    "version": 3
   },
   "file_extension": ".py",
   "mimetype": "text/x-python",
   "name": "python",
   "nbconvert_exporter": "python",
   "pygments_lexer": "ipython3",
   "version": "3.9.10"
  },
  "title": "Machine Learning & Linear Regression",
  "toc-autonumbering": true,
  "vscode": {
   "interpreter": {
    "hash": "b0fa6594d8f4cbf19f97940f81e996739fb7646882a419484c72d19e05852a7e"
   }
  }
 },
 "nbformat": 4,
 "nbformat_minor": 5
}
