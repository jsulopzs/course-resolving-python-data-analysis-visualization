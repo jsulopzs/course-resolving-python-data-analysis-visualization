{
 "cells": [
  {
   "cell_type": "markdown",
   "id": "ebf0c722-09b2-4559-a112-24472a4bb5c1",
   "metadata": {},
   "source": [
    "# Optimal Data Visualization"
   ]
  },
  {
   "cell_type": "markdown",
   "id": "7c672eb6-3e2a-4203-8194-495cfe6fc223",
   "metadata": {},
   "source": [
    "## Load the data\n",
    "\n",
    "- gapminder.xlsx"
   ]
  },
  {
   "cell_type": "code",
   "execution_count": null,
   "id": "4a0c2ee6-0af9-43d1-ada8-6c6fc534402c",
   "metadata": {},
   "outputs": [],
   "source": []
  },
  {
   "cell_type": "markdown",
   "id": "a951165a-2d18-4c8b-9edd-a2ba7de836d5",
   "metadata": {},
   "source": [
    "## Create data visualization"
   ]
  },
  {
   "cell_type": "markdown",
   "id": "4ac63eb8-16da-4100-82a0-7486dcf725bd",
   "metadata": {},
   "source": [
    "### Import plotly library"
   ]
  },
  {
   "cell_type": "code",
   "execution_count": null,
   "id": "ba77cfb1-a955-4a7d-9873-70f1d80e9371",
   "metadata": {},
   "outputs": [],
   "source": [
    "import plotly.express as px"
   ]
  },
  {
   "cell_type": "markdown",
   "id": "86f2ff51-e77d-4621-8ac1-79958292b92c",
   "metadata": {},
   "source": [
    "### Create scatter plot\n",
    "\n",
    "To represent the relationship between two numerical continuous variables:\n",
    "\n",
    "1. x-axis → `gdpPercap` (Money per Person)\n",
    "2. y-axis → `lifeExp` (Life Expectancy)"
   ]
  },
  {
   "cell_type": "code",
   "execution_count": null,
   "id": "56903350-2e6b-47da-a5b8-fbd6547309ef",
   "metadata": {},
   "outputs": [],
   "source": []
  },
  {
   "cell_type": "markdown",
   "id": "8b6ab908-b2f7-4037-9e1b-8c86bf4352f8",
   "metadata": {},
   "source": [
    "### Change the color based on the continent"
   ]
  },
  {
   "cell_type": "code",
   "execution_count": null,
   "id": "9e2201b1-26c8-428d-8af9-50bb5f68fa7d",
   "metadata": {},
   "outputs": [],
   "source": []
  },
  {
   "cell_type": "markdown",
   "id": "66dae233-07ba-4dc7-9479-412582725cdc",
   "metadata": {},
   "source": [
    "### Change the size based on the population"
   ]
  },
  {
   "cell_type": "code",
   "execution_count": null,
   "id": "5eacfe43-de9d-4ad4-9713-2a7d12855698",
   "metadata": {},
   "outputs": [],
   "source": []
  },
  {
   "cell_type": "markdown",
   "id": "2af90813-5e29-493b-a85b-25ccd3eae6f9",
   "metadata": {},
   "source": [
    "### Show the country name as you hover the mouse over the points\n",
    "\n",
    "> You may use the `hover_name` parameter"
   ]
  },
  {
   "cell_type": "code",
   "execution_count": null,
   "id": "9ed5240f-8c74-426c-886e-7b9a01840e23",
   "metadata": {},
   "outputs": [],
   "source": []
  },
  {
   "cell_type": "markdown",
   "id": "1fe5c048-9cc7-4200-91f0-2bf4f603fcaf",
   "metadata": {},
   "source": [
    "## Data Analysis"
   ]
  },
  {
   "cell_type": "markdown",
   "id": "40d501ae-cb2b-489f-9db4-7b81bd4e47fc",
   "metadata": {},
   "source": [
    "### Which observation represents the biggest point?"
   ]
  },
  {
   "cell_type": "code",
   "execution_count": null,
   "id": "8251443c-fe80-48d8-b30f-08fe664946a8",
   "metadata": {},
   "outputs": [],
   "source": []
  },
  {
   "cell_type": "markdown",
   "id": "4a3af807-cf51-49de-b845-ddba26768204",
   "metadata": {},
   "source": [
    "### Which point is the furthest in the x-axis?"
   ]
  },
  {
   "cell_type": "code",
   "execution_count": null,
   "id": "62b9f4ae-af89-415a-8d1b-83cd51322ac9",
   "metadata": {},
   "outputs": [],
   "source": []
  },
  {
   "cell_type": "markdown",
   "id": "786d95dd-396f-4a09-be6d-8504219a7c05",
   "metadata": {},
   "source": [
    "### Which point is the furthest in the y-axis?"
   ]
  },
  {
   "cell_type": "code",
   "execution_count": null,
   "id": "ffa33e1d-9f8a-4b66-a5f3-85d4a39436d6",
   "metadata": {},
   "outputs": [],
   "source": []
  },
  {
   "cell_type": "markdown",
   "id": "ea475998",
   "metadata": {},
   "source": [
    "## Create a tree map\n",
    "\n",
    "> Understand what a tree map is in [plotly website](https://plotly.com/python/treemaps/)."
   ]
  },
  {
   "cell_type": "code",
   "execution_count": null,
   "id": "b2005b07",
   "metadata": {},
   "outputs": [],
   "source": []
  }
 ],
 "metadata": {
  "kernelspec": {
   "display_name": "Python 3 (ipykernel)",
   "language": "python",
   "name": "python3"
  },
  "language_info": {
   "codemirror_mode": {
    "name": "ipython",
    "version": 3
   },
   "file_extension": ".py",
   "mimetype": "text/x-python",
   "name": "python",
   "nbconvert_exporter": "python",
   "pygments_lexer": "ipython3",
   "version": "3.10.6"
  },
  "toc-autonumbering": true
 },
 "nbformat": 4,
 "nbformat_minor": 5
}
