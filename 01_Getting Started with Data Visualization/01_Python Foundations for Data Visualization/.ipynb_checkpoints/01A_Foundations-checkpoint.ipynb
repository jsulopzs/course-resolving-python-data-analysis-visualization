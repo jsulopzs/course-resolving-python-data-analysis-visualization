{
 "cells": [
  {
   "cell_type": "markdown",
   "id": "9770afb4-2609-4152-a3d5-9ba337927fb9",
   "metadata": {},
   "source": [
    "# Python Foundations for Data Visualization"
   ]
  },
  {
   "cell_type": "markdown",
   "id": "c37b2f3e-2439-4e9f-8611-1ade1202d0a6",
   "metadata": {},
   "source": [
    "## Create objects with data"
   ]
  },
  {
   "cell_type": "markdown",
   "id": "ed9e451e-7f65-430b-8e18-a738dcb92b2c",
   "metadata": {},
   "source": [
    "### Football Teams"
   ]
  },
  {
   "cell_type": "code",
   "execution_count": 1,
   "id": "460c007d-a40b-47a4-b6cd-906644a8f634",
   "metadata": {},
   "outputs": [],
   "source": [
    "football_teams = ['Real Madrid', 'Barcelona', 'Bayern Munich']"
   ]
  },
  {
   "cell_type": "markdown",
   "id": "db095953-5695-4b52-90ea-e1347986cd56",
   "metadata": {},
   "source": [
    "### Champions Leagues"
   ]
  },
  {
   "cell_type": "code",
   "execution_count": 2,
   "id": "a9a90ee9-8196-471a-89d6-99e868e8a581",
   "metadata": {},
   "outputs": [],
   "source": [
    "champions_leagues = [14, 5, 6]"
   ]
  },
  {
   "cell_type": "markdown",
   "id": "65f455ae-544f-42eb-a4d6-8159d70d8db7",
   "metadata": {},
   "source": [
    "<div class=\"alert alert-info\">\n",
    "    The <b>function</b> processes data to give you the result you want.\n",
    "    <br><b>Libraries</b> store functions to give you results of a particular topic.\n",
    "</div>"
   ]
  },
  {
   "cell_type": "markdown",
   "id": "104283e9-d324-41cf-97fd-3fa6d6594032",
   "metadata": {},
   "source": [
    "## Import matplotlib library\n",
    "\n",
    "> **Mat**hematical **Plot**ting **Lib**rary\n",
    "\n",
    "Matplotlib is a Python library that contains functions to create Data Visualizations"
   ]
  },
  {
   "cell_type": "code",
   "execution_count": null,
   "id": "cc78e6bc-2140-4d0e-977e-a4f598f50914",
   "metadata": {},
   "outputs": [],
   "source": [
    "import matplotlib.pyplot as plt"
   ]
  },
  {
   "cell_type": "markdown",
   "id": "5d51e871-8fdb-4478-b663-e6c1a8109001",
   "metadata": {},
   "source": [
    "### Scatter plot (points)"
   ]
  },
  {
   "cell_type": "code",
   "execution_count": null,
   "id": "40de7996-eba0-4b57-85f8-be0cde16cb26",
   "metadata": {},
   "outputs": [],
   "source": []
  },
  {
   "cell_type": "markdown",
   "id": "b5c3a074-741c-4c16-bf18-d54d575227e5",
   "metadata": {},
   "source": [
    "### Bar plot"
   ]
  },
  {
   "cell_type": "code",
   "execution_count": null,
   "id": "d9e0edb2-9b0a-46e6-8d6a-c9bcdd78a0c4",
   "metadata": {},
   "outputs": [],
   "source": []
  },
  {
   "cell_type": "markdown",
   "id": "c09b202b-a617-43c9-a354-826b1a613cf7",
   "metadata": {},
   "source": [
    "### Many others"
   ]
  },
  {
   "cell_type": "code",
   "execution_count": null,
   "id": "fed6c908-9c89-4b75-b0fd-32c5faac2759",
   "metadata": {},
   "outputs": [],
   "source": []
  },
  {
   "cell_type": "markdown",
   "id": "e500aec9-79c2-471f-85ec-b418b18eea95",
   "metadata": {},
   "source": [
    "https://matplotlib.org/stable/plot_types/index"
   ]
  },
  {
   "cell_type": "markdown",
   "id": "254f8c0f-370b-40bc-9881-2b2c7c7a8b16",
   "metadata": {},
   "source": [
    "## Customize the plot"
   ]
  },
  {
   "cell_type": "markdown",
   "id": "03706466-9435-4e24-864b-150d062276ff",
   "metadata": {},
   "source": [
    "### Change the size"
   ]
  },
  {
   "cell_type": "code",
   "execution_count": null,
   "id": "1222fa3b-88ad-42c6-8585-f8ba4069d9b7",
   "metadata": {},
   "outputs": [],
   "source": []
  },
  {
   "cell_type": "markdown",
   "id": "dfa1bed9-66ac-40e1-aef0-d919005b5999",
   "metadata": {
    "tags": []
   },
   "source": [
    "### Change the color"
   ]
  },
  {
   "cell_type": "code",
   "execution_count": null,
   "id": "ae49fc8a-edbd-4fe6-b941-9e1c44ba2275",
   "metadata": {},
   "outputs": [],
   "source": []
  },
  {
   "cell_type": "markdown",
   "id": "17793a56-96e4-48aa-8784-74fcfb361f41",
   "metadata": {},
   "source": [
    "### Change the marker"
   ]
  },
  {
   "cell_type": "markdown",
   "id": "e7c1226c-781d-4d6e-8eba-7f5a0262cb80",
   "metadata": {},
   "source": [
    "https://matplotlib.org/stable/api/markers_api.html"
   ]
  },
  {
   "cell_type": "code",
   "execution_count": null,
   "id": "c1df3c9d-2aa3-4540-9926-1185df12cd1c",
   "metadata": {},
   "outputs": [],
   "source": []
  },
  {
   "cell_type": "markdown",
   "id": "13a02cd9-eaa8-4524-89b7-1a1d7d3f11a5",
   "metadata": {},
   "source": [
    "### Change the border"
   ]
  },
  {
   "cell_type": "code",
   "execution_count": null,
   "id": "11b12c16-6992-4111-8168-4cc87e621e6b",
   "metadata": {},
   "outputs": [],
   "source": []
  }
 ],
 "metadata": {
  "kernelspec": {
   "display_name": "Python 3 (ipykernel)",
   "language": "python",
   "name": "python3"
  },
  "language_info": {
   "codemirror_mode": {
    "name": "ipython",
    "version": 3
   },
   "file_extension": ".py",
   "mimetype": "text/x-python",
   "name": "python",
   "nbconvert_exporter": "python",
   "pygments_lexer": "ipython3",
   "version": "3.10.6"
  },
  "toc-autonumbering": true
 },
 "nbformat": 4,
 "nbformat_minor": 5
}
